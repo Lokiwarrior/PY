{
 "cells": [
  {
   "cell_type": "code",
   "execution_count": 4,
   "id": "682a1fb9-7c5c-438f-99e2-e90b983365d8",
   "metadata": {},
   "outputs": [],
   "source": [
    "log='''192.168.198.92 - - [23/Dec/2002:23:08:37 -0400] \"GET\n",
    "   / HTTP/1.1\" 200 6394 www.yahoo.com\n",
    "   \"-\" \"Mozilla/4.0 (compatible; MSIE 6.0; Windows NT 5.1...)\" \"-\"\n",
    "192.168.198.92 - - [22/Jan/2012:23:08:38 -0400] \"GET\n",
    "   /images/logo.gif HTTP/1.1\" 200 807 www.yahoo.com\n",
    "   \"http://www.some.com/\" \"Mozilla/4.0 (compatible; MSIE 6...)\" \"-\"\n",
    "132.168.72.177 - - [23/Mar/2002:23:32:14 -0400] \"GET\n",
    "   /news/sports.html HTTP/1.1\" 200 3500 www.yahoo.com\n",
    "   \"http://www.some.com/\" \"Mozilla/4.0 (compatible; MSIE ...)\" \"-\"\n",
    "19.190.72.177 - - [12/Dec/2002:23:32:14 -0400] \"GET\n",
    "   /favicon.ico HTTP/1.1\" 404 1997 www.yahoo.com\n",
    "   \"-\" \"Mozilla/5.0 (Windows; U; Windows NT 5.1; rv:1.7.3)...\" \"-\"\n",
    "192.177.72.177 - - [1/Apr/2002:23:32:15 -0400] \"GET\n",
    "   /style.css HTTP/1.1\" 200 4138 www.yahoo.com\n",
    "   \"http://www.yahoo.com/index.html\" \"Mozilla/5.0 (Windows...\" \"-\"\n",
    "192.168.72.177 - - [22/Dec/2002:23:32:16 -0400] \"GET\n",
    "   /js/ads.js HTTP/1.1\" 200 10229 www.yahoo.com\n",
    "   \"http://www.search.com/index.html\" \"Mozilla/5.0 (Windows...\" \"-\"\n",
    "192.168.72.177 - - [22/Dec/2002:23:32:19 -0400] \"GET\n",
    "   /search.php HTTP/1.1\" 400 1997 www.yahoo.com\n",
    "   \"-\" \"Mozilla/4.0 (compatible; MSIE 6.0; Windows NT 5.1; ...)\" \"-\"'''"
   ]
  },
  {
   "cell_type": "code",
   "execution_count": 13,
   "id": "88a709ae-ddd8-4baa-9df1-24ce34d5b4f0",
   "metadata": {},
   "outputs": [
    {
     "name": "stdout",
     "output_type": "stream",
     "text": [
      "IP: []\n"
     ]
    }
   ],
   "source": [
    "\n",
    "import re\n",
    "print(\"IP:\",re.findall(r\"\\d+\\.+\\d\\.+\\d\\.+\\d*\",log))"
   ]
  },
  {
   "cell_type": "code",
   "execution_count": 7,
   "id": "6cbec432-b3b1-4efb-9333-45d31b4f1533",
   "metadata": {},
   "outputs": [
    {
     "name": "stdout",
     "output_type": "stream",
     "text": [
      "Dates: ['23/Dec/2002', '22/Jan/2012', '23/Mar/2002', '12/Dec/2002', '1/Apr/2002', '22/Dec/2002', '22/Dec/2002']\n"
     ]
    }
   ],
   "source": [
    "import re\n",
    "print(\"Dates:\",re.findall(r\"\\d+/\\w{3}+/\\d+\",log))"
   ]
  },
  {
   "cell_type": "code",
   "execution_count": 18,
   "id": "9053de98-f59b-4d40-b6b7-5290b1843bea",
   "metadata": {},
   "outputs": [
    {
     "name": "stdout",
     "output_type": "stream",
     "text": [
      "Websites: []\n"
     ]
    }
   ],
   "source": [
    "import re\n",
    "print(\"Websites:\",re.findall(r\"\\w+//+\\w{3}\\.\\w*\\.\\w*\",log))"
   ]
  },
  {
   "cell_type": "code",
   "execution_count": 24,
   "id": "f629bca4-4f82-4613-9570-bcbc2e1a80a6",
   "metadata": {},
   "outputs": [
    {
     "name": "stdin",
     "output_type": "stream",
     "text": [
      "Enter the sides of triangle (sep with ,): 4,5,6\n"
     ]
    },
    {
     "name": "stdout",
     "output_type": "stream",
     "text": [
      "Scalene Triangle\n"
     ]
    }
   ],
   "source": [
    "\n",
    "A,B,C= map(float,input('Enter the sides of triangle (sep with ,):').split(\",\"))\n",
    "if A==B==C:\n",
    "    print(\"Equilateral Triangle\")\n",
    "elif A==B or B==C or C==A:\n",
    "    print(\"Isosceles Triangle\")\n",
    "elif A!=B!=C:\n",
    "    print(\"Scalene Triangle\")\n",
    "elif A+B<=C or B+C<=A or C+A<=B:\n",
    "    print(\"Not a Triangle\")\n"
   ]
  },
  {
   "cell_type": "code",
   "execution_count": 37,
   "id": "55711084-cd19-448b-afc4-168804abc247",
   "metadata": {},
   "outputs": [],
   "source": [
    "#happy or n0t \n",
    "\n",
    "\n",
    "def happy(no):\n",
    "    no=str(no)\n",
    "    sum=0\n",
    "    for digit in no:\n",
    "        sum+=int(digit)**2\n",
    "        print(sum)\n",
    "        if sum==1:\n",
    "            return true\n",
    "        elif sum<10:\n",
    "            return false\n",
    "        else:\n",
    "            return happy\n",
    "\n",
    "\n",
    " "
   ]
  },
  {
   "cell_type": "code",
   "execution_count": 40,
   "id": "c338fd22-6a13-43a7-bafa-4141bafe0661",
   "metadata": {},
   "outputs": [
    {
     "name": "stdout",
     "output_type": "stream",
     "text": [
      "1\n"
     ]
    },
    {
     "ename": "NameError",
     "evalue": "name 'true' is not defined",
     "output_type": "error",
     "traceback": [
      "\u001b[1;31m---------------------------------------------------------------------------\u001b[0m",
      "\u001b[1;31mNameError\u001b[0m                                 Traceback (most recent call last)",
      "Cell \u001b[1;32mIn[40], line 1\u001b[0m\n\u001b[1;32m----> 1\u001b[0m \u001b[38;5;28;01mif\u001b[39;00m \u001b[43mhappy\u001b[49m\u001b[43m(\u001b[49m\u001b[38;5;241;43m19\u001b[39;49m\u001b[43m)\u001b[49m:\n\u001b[0;32m      2\u001b[0m     \u001b[38;5;28mprint\u001b[39m(\u001b[38;5;124m'\u001b[39m\u001b[38;5;124mHappy Number\u001b[39m\u001b[38;5;124m'\u001b[39m)\n\u001b[0;32m      3\u001b[0m \u001b[38;5;28;01melse\u001b[39;00m:\n",
      "Cell \u001b[1;32mIn[37], line 11\u001b[0m, in \u001b[0;36mhappy\u001b[1;34m(no)\u001b[0m\n\u001b[0;32m      9\u001b[0m \u001b[38;5;28mprint\u001b[39m(\u001b[38;5;28msum\u001b[39m)\n\u001b[0;32m     10\u001b[0m \u001b[38;5;28;01mif\u001b[39;00m \u001b[38;5;28msum\u001b[39m\u001b[38;5;241m==\u001b[39m\u001b[38;5;241m1\u001b[39m:\n\u001b[1;32m---> 11\u001b[0m     \u001b[38;5;28;01mreturn\u001b[39;00m \u001b[43mtrue\u001b[49m\n\u001b[0;32m     12\u001b[0m \u001b[38;5;28;01melif\u001b[39;00m \u001b[38;5;28msum\u001b[39m\u001b[38;5;241m<\u001b[39m\u001b[38;5;241m10\u001b[39m:\n\u001b[0;32m     13\u001b[0m     \u001b[38;5;28;01mreturn\u001b[39;00m false\n",
      "\u001b[1;31mNameError\u001b[0m: name 'true' is not defined"
     ]
    }
   ],
   "source": [
    "if happy(19):\n",
    "    print('Happy Number')\n",
    "else:\n",
    "    print('Un-happy number')"
   ]
  },
  {
   "cell_type": "code",
   "execution_count": 45,
   "id": "4c197a0b-3f3e-4520-99c2-6b28b7fe9660",
   "metadata": {},
   "outputs": [
    {
     "ename": "SyntaxError",
     "evalue": "expected ':' (1941773515.py, line 5)",
     "output_type": "error",
     "traceback": [
      "\u001b[1;36m  Cell \u001b[1;32mIn[45], line 5\u001b[1;36m\u001b[0m\n\u001b[1;33m    while true\u001b[0m\n\u001b[1;37m              ^\u001b[0m\n\u001b[1;31mSyntaxError\u001b[0m\u001b[1;31m:\u001b[0m expected ':'\n"
     ]
    }
   ],
   "source": [
    "def fibo(no):\n",
    "    fo,f1=0,1\n",
    "    if no==0 or no ==1:\n",
    "        return true\n",
    "    while true:\n",
    "        fn=f0+f1\n",
    "        if fn==no:\n",
    "            return true\n",
    "        elif fn>no:\n",
    "            return false\n",
    "        f0,f1=f1,fn"
   ]
  },
  {
   "cell_type": "code",
   "execution_count": 44,
   "id": "a2db9cc7-8de7-4348-a1e0-b163e47c9fe0",
   "metadata": {},
   "outputs": [
    {
     "ename": "NameError",
     "evalue": "name 'true' is not defined",
     "output_type": "error",
     "traceback": [
      "\u001b[1;31m---------------------------------------------------------------------------\u001b[0m",
      "\u001b[1;31mNameError\u001b[0m                                 Traceback (most recent call last)",
      "Cell \u001b[1;32mIn[44], line 1\u001b[0m\n\u001b[1;32m----> 1\u001b[0m \u001b[43mfibo\u001b[49m\u001b[43m(\u001b[49m\u001b[38;5;241;43m7\u001b[39;49m\u001b[43m)\u001b[49m\n",
      "Cell \u001b[1;32mIn[43], line 5\u001b[0m, in \u001b[0;36mfibo\u001b[1;34m(no)\u001b[0m\n\u001b[0;32m      3\u001b[0m \u001b[38;5;28;01mif\u001b[39;00m no\u001b[38;5;241m==\u001b[39m\u001b[38;5;241m0\u001b[39m \u001b[38;5;129;01mor\u001b[39;00m no \u001b[38;5;241m==\u001b[39m\u001b[38;5;241m1\u001b[39m:\n\u001b[0;32m      4\u001b[0m     \u001b[38;5;28;01mreturn\u001b[39;00m true\n\u001b[1;32m----> 5\u001b[0m \u001b[38;5;28;01mwhile\u001b[39;00m \u001b[43mtrue\u001b[49m:\n\u001b[0;32m      6\u001b[0m     fn\u001b[38;5;241m=\u001b[39mf0\u001b[38;5;241m+\u001b[39mf1\n\u001b[0;32m      7\u001b[0m     \u001b[38;5;28;01mif\u001b[39;00m fn\u001b[38;5;241m==\u001b[39mno:\n",
      "\u001b[1;31mNameError\u001b[0m: name 'true' is not defined"
     ]
    }
   ],
   "source": [
    "fibo(7)"
   ]
  },
  {
   "cell_type": "code",
   "execution_count": null,
   "id": "5798f042-4246-41ce-8943-1899b7eb3ac1",
   "metadata": {},
   "outputs": [],
   "source": []
  },
  {
   "cell_type": "code",
   "execution_count": null,
   "id": "1684708e-06d9-4a1a-995e-a315caac62fe",
   "metadata": {},
   "outputs": [],
   "source": []
  },
  {
   "cell_type": "code",
   "execution_count": null,
   "id": "0ede352a-2ac6-4a2d-9e9c-899147bec064",
   "metadata": {},
   "outputs": [],
   "source": []
  }
 ],
 "metadata": {
  "kernelspec": {
   "display_name": "Python 3 (ipykernel)",
   "language": "python",
   "name": "python3"
  },
  "language_info": {
   "codemirror_mode": {
    "name": "ipython",
    "version": 3
   },
   "file_extension": ".py",
   "mimetype": "text/x-python",
   "name": "python",
   "nbconvert_exporter": "python",
   "pygments_lexer": "ipython3",
   "version": "3.13.2"
  }
 },
 "nbformat": 4,
 "nbformat_minor": 5
}
