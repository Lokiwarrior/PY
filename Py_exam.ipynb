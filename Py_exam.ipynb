{
 "cells": [
  {
   "cell_type": "code",
   "execution_count": 42,
   "id": "9e9b07a6-b65e-4493-a405-2f4186802de0",
   "metadata": {},
   "outputs": [
    {
     "name": "stdin",
     "output_type": "stream",
     "text": [
      " 30\n"
     ]
    },
    {
     "name": "stdout",
     "output_type": "stream",
     "text": [
      "2 3 5 7 11 23 29 "
     ]
    }
   ],
   "source": [
    "# prime numbers up to n whos digit sum is also prime.\n",
    "def prime(n):\n",
    "    if n < 2:\n",
    "        return False\n",
    "    for i in range(2, int(n**0.5) + 1):\n",
    "        if n % i == 0:\n",
    "            return False\n",
    "    return True\n",
    "\n",
    "n = int(input())\n",
    "for i in range(2, n + 1):\n",
    "    if prime(i) and prime(sum(int(d) for d in str(i))):\n",
    "        print(i, end=\" \")\n"
   ]
  },
  {
   "cell_type": "code",
   "execution_count": 84,
   "id": "918c682a-55b7-4a51-a8de-d0429656bc92",
   "metadata": {},
   "outputs": [
    {
     "name": "stdin",
     "output_type": "stream",
     "text": [
      " 8\n",
      " 3\n",
      " 5\n"
     ]
    },
    {
     "name": "stdout",
     "output_type": "stream",
     "text": [
      "2178309 3524578 5702887 9227465 24157817 39088169 63245986 "
     ]
    }
   ],
   "source": [
    "# Fibonacci sequence \n",
    "n = int(input())\n",
    "k = int(input())\n",
    "m = int(input())\n",
    "for i in range(1, n + 1):\n",
    "    if i % m != 0 and i == len(k) != 0:\n",
    "        print(a, end=\" \")\n",
    "\n",
    "\n",
    "        "
   ]
  },
  {
   "cell_type": "code",
   "execution_count": 63,
   "id": "dc615789-2399-4b3f-8fb7-45e2c29a30ec",
   "metadata": {},
   "outputs": [
    {
     "name": "stdout",
     "output_type": "stream",
     "text": [
      "Longest [1, 2, 3, 4]\n",
      "All sequences [[1, 2, 3, 4], [100], [200]]\n",
      "Longest from all [200]\n"
     ]
    }
   ],
   "source": [
    "#Longest consecutive sequence \n",
    "def longest_consecutive(nums):\n",
    "    nums = set(nums)\n",
    "    longest = []\n",
    "    for num in nums:\n",
    "        if num - 1 not in nums:\n",
    "            seq = []\n",
    "            while num in nums:\n",
    "                seq.append(num)\n",
    "                num += 1\n",
    "            if len(seq) > len(longest):\n",
    "                longest = seq\n",
    "    return longest\n",
    "\n",
    "\n",
    "\n",
    "def find_all_sequences(nums):\n",
    "    nums = set(nums)\n",
    "    sequences = []\n",
    "    for num in nums:\n",
    "        if num - 1 not in nums:\n",
    "            seq = []\n",
    "            while num in nums:\n",
    "                seq.append(num)\n",
    "                num += 1\n",
    "            sequences.append(seq)\n",
    "    return sequences\n",
    "\n",
    "def get_longest_sequence(nums):\n",
    "    return max(find_all_sequences(nums))\n",
    "\n",
    "\n",
    "    \n",
    "\n",
    "num = [100, 4, 200, 1, 3, 2]\n",
    "\n",
    "print(\"Longest\", longest_consecutive(num))\n",
    "print(\"All sequences\", find_all_sequences(num))\n",
    "print(\"Longest from all\", get_longest_sequence(num))\n",
    "\n",
    "\n",
    "\n",
    "\n"
   ]
  },
  {
   "cell_type": "code",
   "execution_count": null,
   "id": "2bdb91e3-45ec-432a-ad58-9bc98b744bc0",
   "metadata": {},
   "outputs": [],
   "source": []
  }
 ],
 "metadata": {
  "kernelspec": {
   "display_name": "Python 3 (ipykernel)",
   "language": "python",
   "name": "python3"
  },
  "language_info": {
   "codemirror_mode": {
    "name": "ipython",
    "version": 3
   },
   "file_extension": ".py",
   "mimetype": "text/x-python",
   "name": "python",
   "nbconvert_exporter": "python",
   "pygments_lexer": "ipython3",
   "version": "3.13.2"
  }
 },
 "nbformat": 4,
 "nbformat_minor": 5
}
